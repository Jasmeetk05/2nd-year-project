{
  "nbformat": 4,
  "nbformat_minor": 0,
  "metadata": {
    "colab": {
      "provenance": [],
      "authorship_tag": "ABX9TyNUhNO9+4HbtJeQ+GlqlX1K",
      "include_colab_link": true
    },
    "kernelspec": {
      "name": "python3",
      "display_name": "Python 3"
    },
    "language_info": {
      "name": "python"
    }
  },
  "cells": [
    {
      "cell_type": "markdown",
      "metadata": {
        "id": "view-in-github",
        "colab_type": "text"
      },
      "source": [
        "<a href=\"https://colab.research.google.com/github/Jasmeetk05/2nd-year-project/blob/main/Copy_of_Untitled55.ipynb\" target=\"_parent\"><img src=\"https://colab.research.google.com/assets/colab-badge.svg\" alt=\"Open In Colab\"/></a>"
      ]
    },
    {
      "cell_type": "code",
      "source": [
        "# ------------------------------\n",
        "# Step 1: Install dependencies\n",
        "# ------------------------------\n",
        "!pip install transformers datasets gradio evaluate -q\n",
        "\n",
        "# ------------------------------\n",
        "# Step 2: Import libraries\n",
        "# ------------------------------\n",
        "import gradio as gr\n",
        "import torch\n",
        "import numpy as np\n",
        "from transformers import AutoTokenizer, AutoModelForSequenceClassification\n",
        "\n",
        "# ------------------------------\n",
        "# Step 3: Load model\n",
        "# ------------------------------\n",
        "MODEL = \"distilroberta-base\"\n",
        "tokenizer = AutoTokenizer.from_pretrained(MODEL)\n",
        "model = AutoModelForSequenceClassification.from_pretrained(MODEL, num_labels=1)\n",
        "model.eval()\n",
        "\n",
        "# ------------------------------\n",
        "# Step 4: Define users (multi-user login)\n",
        "# ------------------------------\n",
        "USERS = {\n",
        "    \"student\": \"1234\",\n",
        "    \"teacher\": \"abcd\",\n",
        "    \"admin\": \"admin123\"\n",
        "}\n",
        "\n",
        "# ------------------------------\n",
        "# Step 5: Essay grading function\n",
        "# ------------------------------\n",
        "def grade_essay(question, answer):\n",
        "    text = f\"Question: {question} Answer: {answer}\"\n",
        "    inputs = tokenizer(text, return_tensors=\"pt\", truncation=True, padding=True, max_length=256)\n",
        "\n",
        "    with torch.no_grad():\n",
        "        outputs = model(**inputs)\n",
        "        score = outputs.logits.squeeze().item()\n",
        "\n",
        "    score = np.clip((score + 3) * 15, 0, 100)\n",
        "\n",
        "    feedback = []\n",
        "    if len(answer.split()) < 30:\n",
        "        feedback.append(\"Your answer is too short. Try adding more details.\")\n",
        "    if question.lower().split()[0] not in answer.lower():\n",
        "        feedback.append(\"Make sure your answer is closely related to the question.\")\n",
        "    if score > 70:\n",
        "        feedback.append(\"Great job! Your answer is well-structured and detailed.\")\n",
        "    elif score > 40:\n",
        "        feedback.append(\"Decent attempt, but you can improve by explaining more clearly.\")\n",
        "    else:\n",
        "        feedback.append(\"Needs significant improvement. Try to include key concepts.\")\n",
        "\n",
        "    return f\"Predicted Score: {score:.2f}/100\\n\\nFeedback: {' '.join(feedback)}\"\n",
        "\n",
        "# ------------------------------\n",
        "# Step 6: Login & Logout Functions\n",
        "# ------------------------------\n",
        "def login(username, password, logged_in):\n",
        "    username = username.strip().lower()\n",
        "    password = password.strip()\n",
        "\n",
        "    if username in USERS and USERS[username] == password:\n",
        "        return gr.update(visible=False), gr.update(visible=True), f\"✅ Welcome {username.title()}!\", True\n",
        "    else:\n",
        "        return gr.update(visible=True), gr.update(visible=False), \"❌ Invalid username or password\", False\n",
        "\n",
        "def logout(logged_in):\n",
        "    return gr.update(visible=True), gr.update(visible=False), \"👋 You have logged out.\", False\n",
        "\n",
        "# ------------------------------\n",
        "# Step 7: Build Gradio App\n",
        "# ------------------------------\n",
        "with gr.Blocks(theme=gr.themes.Soft(primary_hue=\"pink\", secondary_hue=\"cyan\")) as demo:\n",
        "    logged_in = gr.State(False)\n",
        "\n",
        "    gr.Markdown(\"\"\"\n",
        "    <h1 style=\"color:#ff1493;\">✨ Automatic Essay/Answer Grader ✨</h1>\n",
        "    <p style=\"color:#00bfff;\">Login to access the grading system.</p>\n",
        "    \"\"\")\n",
        "\n",
        "    # Login Screen\n",
        "    with gr.Group(visible=True) as login_screen:\n",
        "        username = gr.Textbox(label=\"👤 Username\")\n",
        "        password = gr.Textbox(label=\"🔑 Password\", type=\"password\")\n",
        "        login_btn = gr.Button(\"Login 🚪\")\n",
        "        login_message = gr.Markdown(\"\")\n",
        "\n",
        "    # Main App (hidden until login)\n",
        "    with gr.Group(visible=False) as app_screen:\n",
        "        with gr.Row():\n",
        "            question = gr.Textbox(label=\"📘 Enter Question\", placeholder=\"e.g., Explain Newton's First Law of Motion\")\n",
        "        with gr.Row():\n",
        "            answer = gr.Textbox(label=\"✍️ Enter Your Answer\", placeholder=\"Type your answer here...\", lines=6)\n",
        "\n",
        "        submit_btn = gr.Button(\"🚀 Grade My Answer\")\n",
        "        output = gr.Textbox(label=\"📊 Results\", lines=6)\n",
        "\n",
        "        logout_btn = gr.Button(\"Logout 🔒\")\n",
        "        status_msg = gr.Markdown(\"\")\n",
        "\n",
        "        submit_btn.click(fn=grade_essay, inputs=[question, answer], outputs=output)\n",
        "\n",
        "    # Button Actions\n",
        "    login_btn.click(fn=login, inputs=[username, password, logged_in],\n",
        "                    outputs=[login_screen, app_screen, login_message, logged_in])\n",
        "\n",
        "    logout_btn.click(fn=logout, inputs=[logged_in],\n",
        "                     outputs=[login_screen, app_screen, status_msg, logged_in])\n",
        "\n",
        "# ------------------------------\n",
        "# Step 8: Launch app\n",
        "# ------------------------------\n",
        "demo.launch(share=True)\n"
      ],
      "metadata": {
        "colab": {
          "base_uri": "https://localhost:8080/",
          "height": 650
        },
        "id": "I0AN9rlOAxIq",
        "outputId": "d65539f0-ba67-46ef-f03b-578d70ac3500"
      },
      "execution_count": null,
      "outputs": [
        {
          "output_type": "stream",
          "name": "stderr",
          "text": [
            "Some weights of RobertaForSequenceClassification were not initialized from the model checkpoint at distilroberta-base and are newly initialized: ['classifier.dense.bias', 'classifier.dense.weight', 'classifier.out_proj.bias', 'classifier.out_proj.weight']\n",
            "You should probably TRAIN this model on a down-stream task to be able to use it for predictions and inference.\n"
          ]
        },
        {
          "output_type": "stream",
          "name": "stdout",
          "text": [
            "Colab notebook detected. To show errors in colab notebook, set debug=True in launch()\n",
            "* Running on public URL: https://6705de29fe2860fc8e.gradio.live\n",
            "\n",
            "This share link expires in 1 week. For free permanent hosting and GPU upgrades, run `gradio deploy` from the terminal in the working directory to deploy to Hugging Face Spaces (https://huggingface.co/spaces)\n"
          ]
        },
        {
          "output_type": "display_data",
          "data": {
            "text/plain": [
              "<IPython.core.display.HTML object>"
            ],
            "text/html": [
              "<div><iframe src=\"https://6705de29fe2860fc8e.gradio.live\" width=\"100%\" height=\"500\" allow=\"autoplay; camera; microphone; clipboard-read; clipboard-write;\" frameborder=\"0\" allowfullscreen></iframe></div>"
            ]
          },
          "metadata": {}
        },
        {
          "output_type": "execute_result",
          "data": {
            "text/plain": []
          },
          "metadata": {},
          "execution_count": 10
        }
      ]
    }
  ]
}